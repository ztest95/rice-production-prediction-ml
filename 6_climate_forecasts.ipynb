{
 "cells": [
  {
   "cell_type": "markdown",
   "metadata": {},
   "source": [
    "# About this notebook\n",
    "\n",
    "This notebook uses PyCaret for model implementation,\n",
    "\n",
    "This notebook does the following...\n",
    "- Get the top forecasting models for each climate variable\n",
    "- Create forecasts on each climate variable\n",
    "- Find better forecasts with variation for flat / straight line forecasts\n",
    "- Create 6-year forecast, combine, and output `climate_forecast.csv`\n"
   ]
  },
  {
   "cell_type": "code",
   "execution_count": 1,
   "metadata": {},
   "outputs": [],
   "source": [
    "import pandas as pd\n",
    "import matplotlib.pyplot as plt\n",
    "from pycaret.regression import *\n",
    "from pycaret.time_series import *"
   ]
  },
  {
   "cell_type": "code",
   "execution_count": 2,
   "metadata": {},
   "outputs": [],
   "source": [
    "climate_df = pd.read_csv('./climateipynb_output.csv', names=['Date', 'Rainfall', 'Max Temperature', 'Min Temperature', 'Relative Humidity', 'Wind Speed'], header=0)\n",
    "\n",
    "rice_df = pd.read_csv('./riceipynb_output1.csv', names=['Date', 'Irrigated Palay Production', 'Rainfed Palay Production'], header=0)"
   ]
  },
  {
   "cell_type": "code",
   "execution_count": null,
   "metadata": {},
   "outputs": [],
   "source": [
    "climate_rice_df = pd.merge(climate_df, rice_df,  \n",
    "                   on='Date',  \n",
    "                   how='outer')\n",
    "\n",
    "climate_rice_df.info() "
   ]
  },
  {
   "cell_type": "code",
   "execution_count": null,
   "metadata": {},
   "outputs": [],
   "source": [
    "climate_series = climate_df.copy()\n",
    "climate_series.index = pd.date_range(start='2013-03', end='2023', freq='3M')\n",
    "climate_series.head()"
   ]
  },
  {
   "cell_type": "code",
   "execution_count": 5,
   "metadata": {},
   "outputs": [],
   "source": [
    "s_RF = TSForecastingExperiment()\n",
    "s_TMAX = TSForecastingExperiment()\n",
    "s_TMIN = TSForecastingExperiment()\n",
    "s_RH = TSForecastingExperiment()\n",
    "s_WS = TSForecastingExperiment()"
   ]
  },
  {
   "cell_type": "code",
   "execution_count": null,
   "metadata": {},
   "outputs": [],
   "source": [
    "s_RF.setup(data = climate_series[['Rainfall']], session_id = 321, verbose = False)\n",
    "s_TMAX.setup(data = climate_series[['Max Temperature']], session_id = 321, verbose = False)\n",
    "s_TMIN.setup(data = climate_series[['Min Temperature']], session_id = 321, verbose = False)\n",
    "s_RH.setup(data = climate_series[['Relative Humidity']], session_id = 321, verbose = False)\n",
    "s_WS.setup(data = climate_series[['Wind Speed']], session_id = 321, verbose = False)\n"
   ]
  },
  {
   "cell_type": "code",
   "execution_count": null,
   "metadata": {},
   "outputs": [],
   "source": [
    "best_RF = s_RF.compare_models()\n",
    "best_TMAX = s_TMAX.compare_models(n_select=10)\n",
    "best_TMIN = s_TMIN.compare_models()\n",
    "best_RH = s_RH.compare_models()\n",
    "best_WS = s_WS.compare_models(n_select=30)"
   ]
  },
  {
   "cell_type": "code",
   "execution_count": null,
   "metadata": {},
   "outputs": [],
   "source": [
    "print(best_RF)\n",
    "print(best_TMAX[3])\n",
    "print(best_TMIN)\n",
    "print(best_RH)\n",
    "print(best_WS[-3])\n"
   ]
  },
  {
   "cell_type": "code",
   "execution_count": null,
   "metadata": {},
   "outputs": [],
   "source": [
    "s_WS.plot_model(best_WS, plot = 'forecast', data_kwargs = {'fh' : 24})"
   ]
  },
  {
   "cell_type": "code",
   "execution_count": null,
   "metadata": {},
   "outputs": [],
   "source": [
    "s_RF.plot_model(best_RF, plot = 'forecast', data_kwargs = {'fh' : 24})"
   ]
  },
  {
   "cell_type": "code",
   "execution_count": null,
   "metadata": {},
   "outputs": [],
   "source": [
    "s_RF.plot_model(best_RF, plot = 'forecast', data_kwargs = {'fh' : 24})\n",
    "s_TMAX.plot_model(best_TMAX[3], plot = 'forecast', data_kwargs = {'fh' : 24})\n",
    "s_TMIN.plot_model(best_TMIN, plot = 'forecast', data_kwargs = {'fh' : 24})\n",
    "s_RH.plot_model(best_RH, plot = 'forecast', data_kwargs = {'fh' : 24})\n",
    "s_WS.plot_model(best_WS[-3], plot = 'forecast', data_kwargs = {'fh' : 24})"
   ]
  },
  {
   "cell_type": "code",
   "execution_count": 12,
   "metadata": {},
   "outputs": [],
   "source": [
    "climate_forecast = pd.DataFrame()"
   ]
  },
  {
   "cell_type": "code",
   "execution_count": 13,
   "metadata": {},
   "outputs": [],
   "source": [
    "RF_predictions = s_RF.predict_model(best_RF, fh = 24, verbose = False)\n",
    "climate_forecast = climate_forecast.assign(Rainfall=RF_predictions)\n",
    "TMAX_predictions = s_TMAX.predict_model(best_TMAX[3], verbose = False, fh = 24)\n",
    "climate_forecast = climate_forecast.assign(Max_Temperature=TMAX_predictions)\n",
    "TMIN_predictions = s_TMIN.predict_model(best_TMIN, verbose = False, fh = 24)\n",
    "climate_forecast = climate_forecast.assign(Min_Temperature=TMIN_predictions)\n",
    "RH_predictions = s_RH.predict_model(best_RH, verbose = False, fh = 24)\n",
    "climate_forecast = climate_forecast.assign(Relative_Humidity=RH_predictions)\n",
    "WS_predictions = s_WS.predict_model(best_WS[-3], verbose = False, fh = 24)\n",
    "climate_forecast = climate_forecast.assign(Wind_Speed=WS_predictions)"
   ]
  },
  {
   "cell_type": "code",
   "execution_count": null,
   "metadata": {},
   "outputs": [],
   "source": [
    "climate_forecast.head()"
   ]
  },
  {
   "cell_type": "code",
   "execution_count": 15,
   "metadata": {},
   "outputs": [],
   "source": [
    "climate_forecast.to_csv('climateforecast.csv')"
   ]
  }
 ],
 "metadata": {
  "kernelspec": {
   "display_name": "Python 3",
   "language": "python",
   "name": "python3"
  },
  "language_info": {
   "codemirror_mode": {
    "name": "ipython",
    "version": 3
   },
   "file_extension": ".py",
   "mimetype": "text/x-python",
   "name": "python",
   "nbconvert_exporter": "python",
   "pygments_lexer": "ipython3",
   "version": "3.11.4"
  }
 },
 "nbformat": 4,
 "nbformat_minor": 2
}
