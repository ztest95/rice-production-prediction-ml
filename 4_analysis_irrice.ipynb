{
 "cells": [
  {
   "cell_type": "markdown",
   "metadata": {},
   "source": [
    "# About this notebook\n",
    "\n",
    "This notebook uses PyCaret for model implementation,\n",
    "\n",
    "This notebook does the following...\n",
    "- Normalize and Transform Data\n",
    "- Get the top 3 models according to RMSE\n",
    "- Tune and Blend top 3 models and compare\n",
    "- Evaluate the models\n",
    "- Finalize the best model and outputs `irrice_final_model.pkl`"
   ]
  },
  {
   "cell_type": "markdown",
   "metadata": {},
   "source": [
    "# Model Implementation for Irrigated Rice"
   ]
  },
  {
   "cell_type": "code",
   "execution_count": 3,
   "metadata": {},
   "outputs": [],
   "source": [
    "# Import necessary libraries\n",
    "import pandas as pd\n",
    "import matplotlib.pyplot as plt\n",
    "from pycaret.regression import *"
   ]
  },
  {
   "cell_type": "markdown",
   "metadata": {},
   "source": [
    "### Load data"
   ]
  },
  {
   "cell_type": "code",
   "execution_count": 4,
   "metadata": {},
   "outputs": [],
   "source": [
    "# Climate\n",
    "climate_df = pd.read_csv('./climateipynb_output.csv', names=['Date', 'Rainfall', 'Max Temperature', 'Min Temperature', 'Relative Humidity', 'Wind Speed'], header=0)\n",
    "\n",
    "# Irrigated and Rainfed Rice\n",
    "rice_df = pd.read_csv('./riceipynb_output1.csv', names=['Date', 'Irrigated Palay Production', 'Rainfed Palay Production'], header=0)"
   ]
  },
  {
   "cell_type": "markdown",
   "metadata": {},
   "source": [
    "### Merge Data"
   ]
  },
  {
   "cell_type": "code",
   "execution_count": 5,
   "metadata": {},
   "outputs": [],
   "source": [
    "# Merge climate and rice data\n",
    "climate_rice_df = pd.merge(climate_df, rice_df,  \n",
    "                   on='Date',  \n",
    "                   how='outer')"
   ]
  },
  {
   "cell_type": "code",
   "execution_count": null,
   "metadata": {},
   "outputs": [],
   "source": [
    "climate_rice_df.head() # View data"
   ]
  },
  {
   "cell_type": "markdown",
   "metadata": {},
   "source": [
    "### Create 'Year' and 'Quarter' columns by separating Date"
   ]
  },
  {
   "cell_type": "code",
   "execution_count": 7,
   "metadata": {},
   "outputs": [],
   "source": [
    "# Add Year and Quarter columns\n",
    "climate_rice_df['Year'] = pd.to_datetime(climate_rice_df['Date']).dt.year\n",
    "climate_rice_df['Quarter'] = pd.to_datetime(climate_rice_df['Date']).dt.quarter\n",
    "\n",
    "# Remove Date column\n",
    "climate_rice_df.drop('Date', axis=1, inplace=True)\n",
    "\n",
    "climate_rice_df.head() # View data\n",
    "\n",
    "climate_rice_df.to_csv('combined_data.csv', index=False) # Save data"
   ]
  },
  {
   "cell_type": "markdown",
   "metadata": {},
   "source": [
    "### Separate Irrigated Palay Production and Rainfed Palay Production"
   ]
  },
  {
   "cell_type": "code",
   "execution_count": 8,
   "metadata": {},
   "outputs": [],
   "source": [
    "# Irrigated Palay Data\n",
    "irrigated_palay_df = climate_rice_df[['Rainfall', 'Max Temperature', 'Min Temperature', 'Relative Humidity', 'Wind Speed', 'Irrigated Palay Production']]\n",
    "\n",
    "# Rainfed Palay Data\n",
    "# rainfed_palay_df = climate_rice_df[['Rainfall', 'Max Temperature', 'Min Temperature', 'Relative Humidity', 'Wind Speed', 'Rainfed Palay Production']]"
   ]
  },
  {
   "cell_type": "code",
   "execution_count": null,
   "metadata": {},
   "outputs": [],
   "source": [
    "irrigated_palay_df.head() # View data"
   ]
  },
  {
   "cell_type": "code",
   "execution_count": null,
   "metadata": {},
   "outputs": [],
   "source": [
    "exp_irrigated = setup(data=irrigated_palay_df, target='Irrigated Palay Production', session_id=123, fold=5, normalize=True, transformation=True)"
   ]
  },
  {
   "cell_type": "code",
   "execution_count": 11,
   "metadata": {},
   "outputs": [],
   "source": [
    "metric = 'RMSE'"
   ]
  },
  {
   "cell_type": "code",
   "execution_count": null,
   "metadata": {},
   "outputs": [],
   "source": [
    "best_model = exp_irrigated.compare_models(sort=metric, n_select=3)"
   ]
  },
  {
   "cell_type": "code",
   "execution_count": 13,
   "metadata": {},
   "outputs": [],
   "source": [
    "# Normalization and Transformation improves model performance"
   ]
  },
  {
   "cell_type": "code",
   "execution_count": null,
   "metadata": {},
   "outputs": [],
   "source": [
    "ir_finalize = setup(data = irrigated_palay_df ,target = 'Irrigated Palay Production', session_id=123, verbose=False, fold = 5, normalize=True, transformation=True)\n",
    "ir_finalize = create_model('et')\n",
    "final_ir = finalize_model(ir_finalize)\n",
    "save_model(final_ir, 'irrice_final_model')\n"
   ]
  },
  {
   "cell_type": "code",
   "execution_count": null,
   "metadata": {},
   "outputs": [],
   "source": [
    "# Feature Importance / Variable Coefficients\n",
    "for i in range(5):\n",
    "    print(climate_rice_df.columns[i], final_ir.feature_importances_[i].round(4))\n"
   ]
  },
  {
   "cell_type": "code",
   "execution_count": null,
   "metadata": {},
   "outputs": [],
   "source": [
    "exp_irrigated.plot_model(best_model[0], plot=\"feature\")"
   ]
  },
  {
   "cell_type": "code",
   "execution_count": null,
   "metadata": {},
   "outputs": [],
   "source": [
    "evaluate_model(final_ir)"
   ]
  },
  {
   "cell_type": "code",
   "execution_count": 18,
   "metadata": {},
   "outputs": [],
   "source": [
    "# Run cells above this to save memory"
   ]
  },
  {
   "cell_type": "markdown",
   "metadata": {},
   "source": [
    "## Stop here to save time\n",
    "\n",
    "The code above this section saves the best model. <br>\n",
    "\n",
    "The code below are just exploratory code for tuning and blending the models, which does not produce better models for most of the time. <br>\n",
    "If you are running this ipynb multiple times for testing, its better to run only the code above, (To save our precious processing power and time), <br>\n",
    "unless you are specifically trying something with tuning and blending\n"
   ]
  },
  {
   "cell_type": "code",
   "execution_count": null,
   "metadata": {},
   "outputs": [],
   "source": [
    "print(irrigated_palay_df[\"Irrigated Palay Production\"].mean()) # Avreage Volume of Production\n",
    "print(325272 / irrigated_palay_df[\"Irrigated Palay Production\"].mean())# Average Margin of Error\n",
    "234833 / 154971 # RMSE / MAE"
   ]
  },
  {
   "cell_type": "code",
   "execution_count": null,
   "metadata": {},
   "outputs": [],
   "source": [
    "print(irrigated_palay_df[\"Irrigated Palay Production\"].mean()) # Avreage Volume of Production\n",
    "print(325272 / irrigated_palay_df[\"Irrigated Palay Production\"].mean())# Average Margin of Error\n",
    "234833 / 154971 # RMSE / MAE"
   ]
  },
  {
   "cell_type": "markdown",
   "metadata": {},
   "source": [
    "## Tune and Blend"
   ]
  },
  {
   "cell_type": "code",
   "execution_count": null,
   "metadata": {},
   "outputs": [],
   "source": [
    "tuned_best_model = [tune_model(i, fold = 3, optimize=metric) for i in best_model]"
   ]
  },
  {
   "cell_type": "code",
   "execution_count": null,
   "metadata": {},
   "outputs": [],
   "source": [
    "blend = blend_models(estimator_list = tuned_best_model, fold = 3, optimize=metric)"
   ]
  },
  {
   "cell_type": "code",
   "execution_count": 23,
   "metadata": {},
   "outputs": [],
   "source": [
    "tuned_top_model = tuned_best_model[0]"
   ]
  },
  {
   "cell_type": "code",
   "execution_count": null,
   "metadata": {},
   "outputs": [],
   "source": [
    "evaluate_model(blend)\n",
    "evaluate_model(tuned_top_model)"
   ]
  }
 ],
 "metadata": {
  "kernelspec": {
   "display_name": "Python 3",
   "language": "python",
   "name": "python3"
  },
  "language_info": {
   "codemirror_mode": {
    "name": "ipython",
    "version": 3
   },
   "file_extension": ".py",
   "mimetype": "text/x-python",
   "name": "python",
   "nbconvert_exporter": "python",
   "pygments_lexer": "ipython3",
   "version": "3.11.4"
  }
 },
 "nbformat": 4,
 "nbformat_minor": 2
}
