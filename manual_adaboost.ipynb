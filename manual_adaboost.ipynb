{
 "cells": [
  {
   "cell_type": "code",
   "execution_count": 112,
   "metadata": {},
   "outputs": [],
   "source": [
    "import pandas as pd\n",
    "from sklearn.model_selection import train_test_split\n",
    "from sklearn.ensemble import AdaBoostRegressor\n",
    "from sklearn.datasets import make_regression"
   ]
  },
  {
   "cell_type": "code",
   "execution_count": 113,
   "metadata": {},
   "outputs": [],
   "source": [
    "# Climate\n",
    "climate_df = pd.read_csv('./climateipynb_output.csv', names=['Date', 'Rainfall', 'Max Temperature', 'Min Temperature', 'Relative Humidity', 'Wind Speed'], header=0)\n",
    "\n",
    "# Irrigated and Rainfed Rice\n",
    "rice_df = pd.read_csv('./riceipynb_output1.csv', names=['Date', 'Irrigated Palay Production', 'Rainfed Palay Production'], header=0)"
   ]
  },
  {
   "cell_type": "code",
   "execution_count": null,
   "metadata": {},
   "outputs": [],
   "source": [
    "climate_df.head()"
   ]
  },
  {
   "cell_type": "code",
   "execution_count": 115,
   "metadata": {},
   "outputs": [],
   "source": [
    "# Merge climate and rice data\n",
    "climate_rice_df = pd.merge(climate_df, rice_df,  \n",
    "                   on='Date',  \n",
    "                   how='outer')"
   ]
  },
  {
   "cell_type": "code",
   "execution_count": 116,
   "metadata": {},
   "outputs": [],
   "source": [
    "# Remove Date column\n",
    "climate_rice_df.drop('Date', axis=1, inplace=True)"
   ]
  },
  {
   "cell_type": "code",
   "execution_count": 117,
   "metadata": {},
   "outputs": [],
   "source": [
    "# Irrigated Palay Data\n",
    "irrigated_palay_df = climate_rice_df[['Rainfall', 'Max Temperature', 'Min Temperature', 'Relative Humidity', 'Wind Speed', 'Irrigated Palay Production']]\n",
    "\n",
    "# Rainfed Palay Data\n",
    "rainfed_palay_df = climate_rice_df[['Rainfall', 'Max Temperature', 'Min Temperature', 'Relative Humidity', 'Wind Speed', 'Rainfed Palay Production']]"
   ]
  },
  {
   "cell_type": "code",
   "execution_count": 118,
   "metadata": {},
   "outputs": [],
   "source": [
    "# irrigated_palay_df.head()"
   ]
  },
  {
   "cell_type": "code",
   "execution_count": 119,
   "metadata": {},
   "outputs": [],
   "source": [
    "features = ['Rainfall', 'Max Temperature', 'Min Temperature', 'Relative Humidity', 'Wind Speed']\n",
    "\n",
    "irrigated_X = irrigated_palay_df[features]\n",
    "irrigated_y = irrigated_palay_df[\"Irrigated Palay Production\"]\n",
    "\n",
    "rainfed_X = rainfed_palay_df[features]\n",
    "rainfed_y = rainfed_palay_df[\"Rainfed Palay Production\"]"
   ]
  },
  {
   "cell_type": "code",
   "execution_count": 120,
   "metadata": {},
   "outputs": [],
   "source": [
    "X_train, X_test, y_train, y_test = train_test_split(rainfed_X, rainfed_y, test_size=0.25, random_state=123)"
   ]
  },
  {
   "cell_type": "code",
   "execution_count": 121,
   "metadata": {},
   "outputs": [],
   "source": [
    "ada_reg = AdaBoostRegressor(random_state=123, n_estimators=100)"
   ]
  },
  {
   "cell_type": "code",
   "execution_count": null,
   "metadata": {},
   "outputs": [],
   "source": [
    "AdaBoostRegressor(n_estimators=100, random_state=123)"
   ]
  },
  {
   "cell_type": "code",
   "execution_count": null,
   "metadata": {},
   "outputs": [],
   "source": [
    "ada_reg.fit(X_train, y_train)"
   ]
  },
  {
   "cell_type": "code",
   "execution_count": null,
   "metadata": {},
   "outputs": [],
   "source": [
    "ada_reg.predict(X_test)"
   ]
  },
  {
   "cell_type": "code",
   "execution_count": null,
   "metadata": {},
   "outputs": [],
   "source": [
    "ada_reg.score(X_test, y_test)"
   ]
  },
  {
   "cell_type": "code",
   "execution_count": null,
   "metadata": {},
   "outputs": [],
   "source": [
    "from sklearn.metrics import mean_absolute_error\n",
    "\n",
    "y_pred = ada_reg.predict(X_test)\n",
    "mae = mean_absolute_error(y_test, y_pred)\n",
    "mae\n"
   ]
  }
 ],
 "metadata": {
  "kernelspec": {
   "display_name": "Python 3",
   "language": "python",
   "name": "python3"
  },
  "language_info": {
   "codemirror_mode": {
    "name": "ipython",
    "version": 3
   },
   "file_extension": ".py",
   "mimetype": "text/x-python",
   "name": "python",
   "nbconvert_exporter": "python",
   "pygments_lexer": "ipython3",
   "version": "3.10.13"
  }
 },
 "nbformat": 4,
 "nbformat_minor": 2
}
