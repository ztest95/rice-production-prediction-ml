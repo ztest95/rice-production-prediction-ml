{
 "cells": [
  {
   "cell_type": "markdown",
   "metadata": {},
   "source": [
    "# About this Notebook\n",
    "\n",
    "this notebook does the following...\n",
    "- Combine the climate data on different csv files from `./ClimateData/`\n",
    "- Inspet Missing Data & Replace Missing Data with Rolling Mean\n",
    "- Combine YEAR and MONTH columns\n",
    "- resample Monthly to Quarterly Climate Data\n",
    "- Plot historical climate data\n",
    "- Outputs `climateipynb_output.csv`|"
   ]
  },
  {
   "cell_type": "code",
   "execution_count": 1,
   "metadata": {},
   "outputs": [],
   "source": [
    "import pandas as pd\n",
    "import matplotlib.pyplot as plt"
   ]
  },
  {
   "cell_type": "markdown",
   "metadata": {},
   "source": [
    "# Combining the data from different stations"
   ]
  },
  {
   "cell_type": "code",
   "execution_count": null,
   "metadata": {},
   "outputs": [],
   "source": [
    "# List of file paths\n",
    "file_paths = ['./ClimateData/Baguio Monthly Data.csv', \n",
    "              './ClimateData/Baler Radar Monthly Data.csv', \n",
    "              './ClimateData/Cabanatuan Monthly Data.csv', \n",
    "              './ClimateData/Casiguran Monthly Data.csv', \n",
    "              './ClimateData/Clark Monthly Data.csv',\n",
    "              './ClimateData/CLSU Monthly Data.csv', \n",
    "              './ClimateData/Cubi Point Monthly Data.csv', \n",
    "              './ClimateData/Dagupan Monthly Data.csv', \n",
    "              './ClimateData/Iba Monthly Data.csv', \n",
    "              './ClimateData/Sinait Monthly Data.csv',\n",
    "              './ClimateData/Tuguegarao Monthly Data.csv']\n",
    "\n",
    "# Initialize an empty DataFrame\n",
    "df = pd.DataFrame()\n",
    "\n",
    "# Read each CSV file and concatenate the data\n",
    "for file_path in file_paths:\n",
    "    data = pd.read_csv(file_path)\n",
    "    df = pd.concat([df, data])\n",
    "\n",
    "# df.to_csv('climatedata_combined.csv', index=False)\n",
    "df.info()"
   ]
  },
  {
   "cell_type": "markdown",
   "metadata": {},
   "source": [
    "# Data Cleaning"
   ]
  },
  {
   "cell_type": "markdown",
   "metadata": {},
   "source": [
    "<strong> Climate Data Notes </strong>\n",
    "<blockquote>\n",
    "Notes: <br>\n",
    "-999.0 indicate Missing Values <br>\n",
    "RAINFALL UNIT: mm <br>\n",
    "-1.0 indicate Trace Values (RAINFALL\\<0.1mm) <br>\n",
    "TMAX (Maximum Temperature, Unit: Deg C) <br>\n",
    "TMIN (Minimum Temperature, Unit: Deg C) <br>\n",
    "RH (Relative Humidity, Unit: %) <br>\n",
    "Wind Speed, Unit: m/s <br>\n",
    "Wind direction, Unit: degree relative to North indicating where the wind is blowing from <br>\n",
    "</blockquote>\n",
    "\n",
    "- replaced missing data (values -999) from each station with the rolling mean of the data (For all Features) \n",
    "- removing 'Trace Values' of RAINFALL\n",
    "\n",
    "replacing the missing data was done first in each stations, before the data is combied, to avoid the rolling mean to be affected by other stations data."
   ]
  },
  {
   "cell_type": "code",
   "execution_count": null,
   "metadata": {},
   "outputs": [],
   "source": [
    "# Counting Missing Data\n",
    "missing_data_count = df[df == -999].count()\n",
    "print(missing_data_count)\n",
    "# Counting Rainfall Trace Values\n",
    "rainfall_count = (df['RAINFALL'] == -1.0).sum()\n",
    "print('RAINFALL Trace Values: ', rainfall_count)"
   ]
  },
  {
   "cell_type": "code",
   "execution_count": null,
   "metadata": {},
   "outputs": [],
   "source": [
    "df = pd.DataFrame()\n",
    "\n",
    "# We are resolving the missing data by replacing it with the rolling mean of the data.\n",
    "# We will also do this first in each station's data before concatenating them together.\n",
    "for file_path in file_paths:\n",
    "    data = pd.read_csv(file_path)\n",
    "\n",
    "    # Replace -999 (Missing Data) with the rolling mean\n",
    "    df_clean = data.replace(-999, data.mean().rolling(window=3).mean().round(1))\n",
    "    # Convert WIND_SPEED to back to int\n",
    "    df_clean['WIND_SPEED'] = df_clean['WIND_SPEED'].astype(int)\n",
    "\n",
    "    df = pd.concat([df, df_clean])\n",
    "\n",
    "# We also won't be using WIND_DIRECTION so we are removing that\n",
    "df = df.drop('WIND_DIRECTION', axis=1)\n",
    "\n",
    "df.to_csv('climatedabined.csv', index=False)\n",
    "df.head()"
   ]
  },
  {
   "cell_type": "code",
   "execution_count": null,
   "metadata": {},
   "outputs": [],
   "source": [
    "# Missing data in the dataset is labeled as -999, so we count that instead of NaN\n",
    "missing_data_count = df[df == -999].count()\n",
    "print(missing_data_count)"
   ]
  },
  {
   "cell_type": "code",
   "execution_count": null,
   "metadata": {},
   "outputs": [],
   "source": [
    "df.info()"
   ]
  },
  {
   "cell_type": "markdown",
   "metadata": {},
   "source": [
    "# Changing the table's structure\n",
    "\n",
    "- Removing Wind_Direction\n",
    "- Combining and Reformatting \"YEAR\" and \"MONTH\" Columns"
   ]
  },
  {
   "cell_type": "markdown",
   "metadata": {},
   "source": [
    "# Plotting the Climate Data"
   ]
  },
  {
   "cell_type": "code",
   "execution_count": 7,
   "metadata": {},
   "outputs": [],
   "source": [
    "plot_df = df.copy() # Copy the dataframe to to a new variable"
   ]
  },
  {
   "cell_type": "code",
   "execution_count": null,
   "metadata": {},
   "outputs": [],
   "source": [
    "plot_df.head()"
   ]
  },
  {
   "cell_type": "markdown",
   "metadata": {},
   "source": [
    "## By Quarter\n",
    "by semester would be more fitting, but im just doing this so i have more choices for plots to show"
   ]
  },
  {
   "cell_type": "code",
   "execution_count": null,
   "metadata": {},
   "outputs": [],
   "source": [
    "df.head()"
   ]
  },
  {
   "cell_type": "code",
   "execution_count": 10,
   "metadata": {},
   "outputs": [],
   "source": [
    "# We have Year and Months columns in the dataset\n",
    "# This codeblock reformats those two columns into a single DATE column\n",
    "# and combines it by quarter for the plot\n",
    "\n",
    "# Combine and reformat \"YEAR\" AND \"MONTH\" columns to \"DATE\" \n",
    "plot_df['DATE'] = pd.to_datetime(plot_df[['YEAR', 'MONTH']].assign(day=1)) + pd.offsets.MonthEnd(1)\n",
    "plot_df = plot_df.drop(['YEAR', 'MONTH'], axis=1)\n",
    "\n",
    "# Convert Monthly Data to Quarterly Data\n",
    "plot_month = plot_df.resample('M', on='DATE').mean()\n",
    "plot_quarter = plot_df.resample('Q', on='DATE').mean()\n",
    "plot_semester = plot_df.resample('2Q', on='DATE').mean()"
   ]
  },
  {
   "cell_type": "code",
   "execution_count": null,
   "metadata": {},
   "outputs": [],
   "source": [
    "plot_quarter.head()"
   ]
  },
  {
   "cell_type": "code",
   "execution_count": null,
   "metadata": {},
   "outputs": [],
   "source": [
    "plot_quarter.plot(subplots=True, figsize=(10, 10))"
   ]
  },
  {
   "cell_type": "code",
   "execution_count": null,
   "metadata": {},
   "outputs": [],
   "source": [
    "plot_semester.plot(subplots=True, figsize=(10, 10))"
   ]
  },
  {
   "cell_type": "code",
   "execution_count": 14,
   "metadata": {},
   "outputs": [],
   "source": [
    "# Save combined data to a CSV file\n",
    "plot_quarter.to_csv('climateipynb_output.csv')"
   ]
  }
 ],
 "metadata": {
  "kernelspec": {
   "display_name": "Python 3",
   "language": "python",
   "name": "python3"
  },
  "language_info": {
   "codemirror_mode": {
    "name": "ipython",
    "version": 3
   },
   "file_extension": ".py",
   "mimetype": "text/x-python",
   "name": "python",
   "nbconvert_exporter": "python",
   "pygments_lexer": "ipython3",
   "version": "3.11.4"
  }
 },
 "nbformat": 4,
 "nbformat_minor": 2
}
