{
 "cells": [
  {
   "cell_type": "code",
   "execution_count": 1,
   "metadata": {},
   "outputs": [],
   "source": [
    "import pandas as pd\n",
    "import matplotlib.pyplot as plt"
   ]
  },
  {
   "cell_type": "code",
   "execution_count": null,
   "metadata": {},
   "outputs": [],
   "source": [
    "climate_forecast = pd.read_csv(\"climateforecast.csv\", names=[\"Date\", \"Rainfall\", \"Max Temperature\", \"Min Temperature\", \"Relative Humidity\", \"Wind Speed\"], header=0)\n",
    "climate_forecast.head()"
   ]
  },
  {
   "cell_type": "code",
   "execution_count": null,
   "metadata": {},
   "outputs": [],
   "source": [
    "climate_forecast[\"Quarter Year\"] = pd.to_datetime(climate_forecast[\"Date\"]).dt.to_period(\"Q\").dt.strftime(\"q%q %y\\'\")\n",
    "climate_forecast.head()"
   ]
  },
  {
   "cell_type": "code",
   "execution_count": null,
   "metadata": {},
   "outputs": [],
   "source": [
    "# change the (value) by whatever value is of the data\n",
    "\n",
    "plt.figure().set_figwidth(20)  # adjust width\n",
    "plt.plot(climate_forecast[\"Quarter Year\"], climate_forecast[\"Rainfall\"])\n",
    "plt.xlabel(\"Date (by Quarter)\")  # add X-axis label\n",
    "plt.ylabel(\"Rainfall (value)\")  # add Y-axis label\n",
    "plt.title(\"Rainfall 6-year Forecast\")  # add title\n",
    "plt.show()  # display plot"
   ]
  },
  {
   "cell_type": "code",
   "execution_count": null,
   "metadata": {},
   "outputs": [],
   "source": [
    "plt.figure().set_figwidth(20)  # adjust width\n",
    "plt.plot(climate_forecast[\"Quarter Year\"], climate_forecast[\"Max Temperature\"])\n",
    "plt.xlabel(\"Date (by Quarter)\")  # add X-axis label\n",
    "plt.ylabel(\"Max Temperature (Celsius)\")  # add Y-axis label\n",
    "plt.title(\"Max Temperature 6-year Forecast\")  # add title\n",
    "plt.show()  # display plot"
   ]
  },
  {
   "cell_type": "code",
   "execution_count": null,
   "metadata": {},
   "outputs": [],
   "source": [
    "plt.figure().set_figwidth(20)  # adjust width\n",
    "plt.plot(climate_forecast[\"Quarter Year\"], climate_forecast[\"Min Temperature\"])\n",
    "plt.xlabel(\"Date (by Quarter)\")  # add X-axis label\n",
    "plt.ylabel(\"Min Temperature (value)\")  # add Y-axis label\n",
    "plt.title(\"Min Temperature 6-year Forecast\")  # add title\n",
    "plt.show()  # display plot"
   ]
  },
  {
   "cell_type": "code",
   "execution_count": null,
   "metadata": {},
   "outputs": [],
   "source": [
    "# change the (value) by whatever value is of the data\n",
    "\n",
    "plt.figure().set_figwidth(20)  # adjust width\n",
    "plt.plot(climate_forecast[\"Quarter Year\"], climate_forecast[\"Relative Humidity\"])\n",
    "plt.xlabel(\"Date (by Quarter)\")  # add X-axis label\n",
    "plt.ylabel(\"Relative Humidity (value)\")  # add Y-axis label\n",
    "plt.title(\"Relative Humidity 6-year Forecast\")  # add title\n",
    "plt.show()  # display plot"
   ]
  },
  {
   "cell_type": "code",
   "execution_count": null,
   "metadata": {},
   "outputs": [],
   "source": [
    "# change the (value) by whatever value is of the data\n",
    "\n",
    "plt.figure().set_figwidth(20)  # adjust width\n",
    "plt.plot(climate_forecast[\"Quarter Year\"], climate_forecast[\"Wind Speed\"])\n",
    "plt.xlabel(\"Date (by Quarter)\")  # add X-axis label\n",
    "plt.ylabel(\"Wind Speed (value)\")  # add Y-axis label\n",
    "plt.title(\"Wind Speed 6-year Forecast\")  # add title\n",
    "plt.show()  # display plot"
   ]
  }
 ],
 "metadata": {
  "kernelspec": {
   "display_name": "Python 3",
   "language": "python",
   "name": "python3"
  },
  "language_info": {
   "codemirror_mode": {
    "name": "ipython",
    "version": 3
   },
   "file_extension": ".py",
   "mimetype": "text/x-python",
   "name": "python",
   "nbconvert_exporter": "python",
   "pygments_lexer": "ipython3",
   "version": "3.10.13"
  }
 },
 "nbformat": 4,
 "nbformat_minor": 2
}
